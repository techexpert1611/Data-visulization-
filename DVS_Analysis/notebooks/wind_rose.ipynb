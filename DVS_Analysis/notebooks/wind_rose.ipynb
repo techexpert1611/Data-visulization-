{
 "cells": [
  {
   "cell_type": "markdown",
   "metadata": {},
   "source": [
    "#### New to Plotly?\n",
    "Plotly's Python library is free and open source! [Get started](https://plot.ly/python/getting-started/) by downloading the client and [reading the primer](https://plot.ly/python/getting-started/).\n",
    "<br>You can set up Plotly to work in [online](https://plot.ly/python/getting-started/#initialization-for-online-plotting) or [offline](https://plot.ly/python/getting-started/#initialization-for-offline-plotting) mode, or in [jupyter notebooks](https://plot.ly/python/getting-started/#start-plotting-online).\n",
    "<br>We also have a quick-reference [cheatsheet](https://images.plot.ly/plotly-documentation/images/python_cheat_sheet.pdf) (new!) to help you get started!"
   ]
  },
  {
   "cell_type": "markdown",
   "metadata": {},
   "source": [
    "#### Basic Wind Rose Chart"
   ]
  },
  {
   "cell_type": "code",
   "execution_count": 1,
   "metadata": {
    "collapsed": false
   },
   "outputs": [
    {
     "data": {
      "text/html": [
       "<iframe id=\"igraph\" scrolling=\"no\" style=\"border:none;\" seamless=\"seamless\" src=\"https://plot.ly/~chelsea_lyn/10998.embed\" height=\"525px\" width=\"100%\"></iframe>"
      ],
      "text/plain": [
       "<plotly.tools.PlotlyDisplay object>"
      ]
     },
     "execution_count": 1,
     "metadata": {},
     "output_type": "execute_result"
    }
   ],
   "source": [
    "import plotly.plotly as py\n",
    "import plotly.graph_objs as go\n",
    "\n",
    "\n",
    "def draw_interactive():\n",
    "    trace1 = go.Area(\n",
    "        r=[77.5, 72.5, 70.0, 45.0, 22.5, 42.5, 40.0, 62.5],\n",
    "        t=['North', 'N-E', 'East', 'S-E', 'South', 'S-W', 'West', 'N-W'],\n",
    "        name='11-14 m/s',\n",
    "        marker=dict(\n",
    "            color='rgb(106,81,163)'\n",
    "        )\n",
    "    )\n",
    "    trace2 = go.Area(\n",
    "        r=[57.49999999999999, 50.0, 45.0, 35.0, 20.0, 22.5, 37.5, 55.00000000000001],\n",
    "        t=['North', 'N-E', 'East', 'S-E', 'South', 'S-W', 'West', 'N-W'],\n",
    "        name='8-11 m/s',\n",
    "        marker=dict(\n",
    "            color='rgb(158,154,200)'\n",
    "        )\n",
    "    )\n",
    "    trace3 = go.Area(\n",
    "        r=[40.0, 30.0, 30.0, 35.0, 7.5, 7.5, 32.5, 40.0],\n",
    "        t=['North', 'N-E', 'East', 'S-E', 'South', 'S-W', 'West', 'N-W'],\n",
    "        name='5-8 m/s',\n",
    "        marker=dict(\n",
    "            color='rgb(203,201,226)'\n",
    "        )\n",
    "    )\n",
    "    trace4 = go.Area(\n",
    "        r=[20.0, 7.5, 15.0, 22.5, 2.5, 2.5, 12.5, 22.5],\n",
    "        t=['North', 'N-E', 'East', 'S-E', 'South', 'S-W', 'West', 'N-W'],\n",
    "        name='< 5 m/s',\n",
    "        marker=dict(\n",
    "            color='rgb(242,240,247)'\n",
    "        )\n",
    "    )\n",
    "    data = [trace1, trace2, trace3, trace4]\n",
    "    layout = go.Layout(\n",
    "        title='Wind Speed Distribution in Laurel, NE',\n",
    "        font=dict(\n",
    "            size=16\n",
    "        ),\n",
    "        legend=dict(\n",
    "            font=dict(\n",
    "                size=16\n",
    "            )\n",
    "        ),\n",
    "        radialaxis=dict(\n",
    "            ticksuffix='%'\n",
    "        ),\n",
    "        orientation=270\n",
    "    )\n",
    "    fig = go.Figure(data=data, layout=layout)\n",
    "    return fig\n"
   ]
  },
  {
   "cell_type": "markdown",
   "metadata": {},
   "source": [
    "#### Reference\n",
    "\n",
    "See https://plot.ly/python/reference/#area for more information and chart attribute options!"
   ]
  },
  {
   "cell_type": "code",
   "execution_count": null,
   "metadata": {
    "collapsed": true
   },
   "outputs": [],
   "source": []
  }
 ],
 "metadata": {
  "kernelspec": {
   "name": "python2",
   "language": "python",
   "display_name": "Python 2"
  },
  "language_info": {
   "name": "python",
   "version": "2.7.10",
   "mimetype": "text/x-python",
   "file_extension": ".py",
   "pygments_lexer": "ipython2",
   "codemirror_mode": {
    "name": "ipython",
    "version": 2
   },
   "nbconvert_exporter": "python"
  },
  "anaconda-cloud": {}
 },
 "nbformat": 4,
 "nbformat_minor": 0
}
