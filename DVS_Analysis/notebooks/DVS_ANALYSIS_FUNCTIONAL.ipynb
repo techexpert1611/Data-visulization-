{
 "cells": [
  {
   "cell_type": "markdown",
   "metadata": {},
   "source": [
    "### Define functions to execute with graphs"
   ]
  },
  {
   "cell_type": "code",
   "execution_count": 2,
   "metadata": {
    "ExecuteTime": {
     "end_time": "2019-03-28T11:52:29.246346Z",
     "start_time": "2019-03-28T11:52:29.240345Z"
    }
   },
   "outputs": [],
   "source": [
    "import seaborn as sns\n",
    "import matplotlib.pyplot as plt\n",
    "from numpy.random import rand\n",
    "import numpy as np\n",
    "import base64\n"
   ]
  },
  {
   "cell_type": "code",
   "execution_count": null,
   "metadata": {},
   "outputs": [],
   "source": [
    "def insert_figure(plt_object, name):\n",
    "    plt_object.savefig(name)\n",
    "    with open(name, \"rb\") as imageFile:\n",
    "        answer = base64.b64encode(imageFile.read())\n",
    "        return str(answer)\n"
   ]
  },
  {
   "cell_type": "code",
   "execution_count": null,
   "metadata": {
    "ExecuteTime": {
     "end_time": "2019-03-28T11:51:17.760111Z",
     "start_time": "2019-03-28T11:51:17.752118Z"
    }
   },
   "outputs": [],
   "source": [
    "def bar_box(PLOT_KIND='bar'):\n",
    "    tips = sns.load_dataset(\"tips\")\n",
    "    figure = sns.catplot(x=\"day\", y=\"total_bill\", kind=PLOT_KIND, data=tips)\n",
    "    return insert_figure(figure, 'bar_box.png')\n"
   ]
  },
  {
   "cell_type": "code",
   "execution_count": 6,
   "metadata": {
    "ExecuteTime": {
     "end_time": "2019-03-28T11:52:33.450187Z",
     "start_time": "2019-03-28T11:52:33.432200Z"
    }
   },
   "outputs": [],
   "source": [
    "def drawScatter(SCATTER_PLOT_LIMIT=50, BUBBLE_SIZE=300.0):\n",
    "    fig, ax = plt.subplots()\n",
    "    for color in ['red', 'green', 'blue']:\n",
    "        x, y = rand(2, SCATTER_PLOT_LIMIT)\n",
    "\n",
    "        scale = BUBBLE_SIZE * rand(SCATTER_PLOT_LIMIT)\n",
    "\n",
    "        ax.scatter(x, y, c=color, s=scale, label=color,\n",
    "                   alpha=0.3, edgecolors='none')\n",
    "\n",
    "    ax.legend()\n",
    "    ax.grid(True)\n",
    "\n",
    "    return insert_figure(fig, 'scatter.png')\n"
   ]
  },
  {
   "cell_type": "markdown",
   "metadata": {},
   "source": [
    "### Use below cell to get values as markdown cells and see how we can manage that?"
   ]
  },
  {
   "cell_type": "markdown",
   "metadata": {},
   "source": [
    "**Before reading this tutorial you should know a bit of Python. If you would like to refresh your memory, take a look at the Python tutorial.**\n",
    "\n",
    "If you wish to work the examples in this tutorial, you must also have some software installed on your computer. Please see https://scipy.org/install.html for instructions."
   ]
  },
  {
   "cell_type": "code",
   "execution_count": null,
   "metadata": {},
   "outputs": [],
   "source": [
    "def cube_helix(rand_state=50):\n",
    "    rs = np.random.RandomState(rand_state)\n",
    "    \n",
    "    # Set up the matplotlib figure\n",
    "    plot_fig, axes = plt.subplots(3, 3, figsize=(9, 9), sharex=True, sharey=True)\n",
    "    \n",
    "    # Rotate the starting point around the cubehelix hue circle\n",
    "    for ax, s in zip(axes.flat, np.linspace(0, 3, 10)):\n",
    "    \n",
    "        # Create a cubehelix colormap to use with kdeplot\n",
    "        cmap = sns.cubehelix_palette(start=s, light=1, as_cmap=True)\n",
    "    \n",
    "        # Generate and plot a random bivariate dataset\n",
    "        x, y = rs.randn(2, 50)\n",
    "        sns.kdeplot(x, y, cmap=cmap, shade=True, cut=5, ax=ax)\n",
    "        ax.set(xlim=(-3, 3), ylim=(-3, 3))\n",
    "    return insert_figure(plot_fig, 'cube.png')\n"
   ]
  }
 ],
 "metadata": {
  "hide_input": false,
  "kernelspec": {
   "display_name": "Python 3",
   "language": "python",
   "name": "python3"
  },
  "language_info": {
   "codemirror_mode": {
    "name": "ipython",
    "version": 3
   },
   "file_extension": ".py",
   "mimetype": "text/x-python",
   "name": "python",
   "nbconvert_exporter": "python",
   "pygments_lexer": "ipython3",
   "version": "3.7.1"
  },
  "toc": {
   "base_numbering": 1.0,
   "nav_menu": {},
   "number_sections": true,
   "sideBar": true,
   "skip_h1_title": false,
   "title_cell": "Table of Contents",
   "title_sidebar": "Contents",
   "toc_cell": false,
   "toc_position": {},
   "toc_section_display": true,
   "toc_window_display": true
  },
  "varInspector": {
   "cols": {
    "lenName": 16.0,
    "lenType": 16.0,
    "lenVar": 40.0
   },
   "kernels_config": {
    "python": {
     "delete_cmd_postfix": "",
     "delete_cmd_prefix": "del ",
     "library": "var_list.py",
     "varRefreshCmd": "print(var_dic_list())"
    },
    "r": {
     "delete_cmd_postfix": ") ",
     "delete_cmd_prefix": "rm(",
     "library": "var_list.r",
     "varRefreshCmd": "cat(var_dic_list()) "
    }
   },
   "types_to_exclude": [
    "module",
    "function",
    "builtin_function_or_method",
    "instance",
    "_Feature"
   ],
   "window_display": false
  }
 },
 "nbformat": 4,
 "nbformat_minor": 2
}
